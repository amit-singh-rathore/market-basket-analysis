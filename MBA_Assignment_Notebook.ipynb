{
 "cells": [
  {
   "cell_type": "markdown",
   "metadata": {},
   "source": [
    "# Market Basket Analysis using Apriori Algorithm"
   ]
  },
  {
   "cell_type": "markdown",
   "metadata": {},
   "source": [
    "As part of this assignment, you are expected to fill the blanks in the code provided in the Jupyter Notebook"
   ]
  },
  {
   "cell_type": "code",
   "execution_count": 1,
   "metadata": {
    "collapsed": true
   },
   "outputs": [],
   "source": [
    "# Defining the environment variables \n",
    "\n",
    "import os\n",
    "import sys\n",
    "os.environ[\"PYSPARK_PYTHON\"] = \"/usr/bin/python3\"\n",
    "os.environ[\"JAVA_HOME\"] = \"/usr/java/jdk1.8.0_161/jre\"\n",
    "os.environ[\"SPARK_HOME\"] = \"/home/ec2-user/spark-2.4.4-bin-hadoop2.7\"\n",
    "os.environ[\"PYLIB\"] = os.environ[\"SPARK_HOME\"] + \"/python/lib\"\n",
    "sys.path.insert(0, os.environ[\"PYLIB\"] +\"/py4j-0.10.7-src.zip\")\n",
    "sys.path.insert(0, os.environ[\"PYLIB\"] +\"/pyspark.zip\")"
   ]
  },
  {
   "cell_type": "code",
   "execution_count": 2,
   "metadata": {
    "collapsed": true
   },
   "outputs": [],
   "source": [
    "# Importing the SparkSession library\n",
    "\n",
    "from pyspark.sql import SparkSession\n",
    "\n",
    "MAX_MEMORY = \"5g\"\n",
    "\n",
    "# Creating the SparkSession object\n",
    "\n",
    "spark = SparkSession.builder \\\n",
    "                    .appName('apriori')\\\n",
    "                    .config(\"spark.executor.memory\", MAX_MEMORY) \\\n",
    "                    .config(\"spark.driver.memory\", MAX_MEMORY) \\\n",
    "                    .getOrCreate()"
   ]
  },
  {
   "cell_type": "code",
   "execution_count": 3,
   "metadata": {
    "collapsed": false
   },
   "outputs": [
    {
     "data": {
      "text/html": [
       "\n",
       "            <div>\n",
       "                <p><b>SparkSession - in-memory</b></p>\n",
       "                \n",
       "        <div>\n",
       "            <p><b>SparkContext</b></p>\n",
       "\n",
       "            <p><a href=\"http://ip-172-31-19-45.ec2.internal:4040\">Spark UI</a></p>\n",
       "\n",
       "            <dl>\n",
       "              <dt>Version</dt>\n",
       "                <dd><code>v2.4.4</code></dd>\n",
       "              <dt>Master</dt>\n",
       "                <dd><code>local[*]</code></dd>\n",
       "              <dt>AppName</dt>\n",
       "                <dd><code>apriori</code></dd>\n",
       "            </dl>\n",
       "        </div>\n",
       "        \n",
       "            </div>\n",
       "        "
      ],
      "text/plain": [
       "<pyspark.sql.session.SparkSession at 0x7f6347bd9a20>"
      ]
     },
     "execution_count": 3,
     "metadata": {},
     "output_type": "execute_result"
    }
   ],
   "source": [
    "spark"
   ]
  },
  {
   "cell_type": "code",
   "execution_count": 4,
   "metadata": {
    "collapsed": false
   },
   "outputs": [
    {
     "name": "stdout",
     "output_type": "stream",
     "text": [
      "root\n",
      " |-- _c0: string (nullable = true)\n",
      " |-- _c1: string (nullable = true)\n",
      " |-- _c2: string (nullable = true)\n",
      " |-- _c3: string (nullable = true)\n",
      " |-- _c4: string (nullable = true)\n",
      " |-- _c5: string (nullable = true)\n",
      " |-- _c6: string (nullable = true)\n",
      " |-- _c7: string (nullable = true)\n",
      " |-- _c8: string (nullable = true)\n",
      " |-- _c9: string (nullable = true)\n",
      " |-- _c10: string (nullable = true)\n",
      " |-- _c11: string (nullable = true)\n",
      " |-- _c12: string (nullable = true)\n",
      " |-- _c13: string (nullable = true)\n",
      " |-- _c14: string (nullable = true)\n",
      " |-- _c15: string (nullable = true)\n",
      " |-- _c16: string (nullable = true)\n",
      " |-- _c17: string (nullable = true)\n",
      " |-- _c18: string (nullable = true)\n",
      " |-- _c19: string (nullable = true)\n",
      "\n"
     ]
    }
   ],
   "source": [
    "# Loading the data from Market_Basket_Optimisation.csv inside the dataframe\n",
    "transaction_df = spark.read.csv(\"transactions.csv\")\n",
    "\n",
    "# Schema of the dataframe\n",
    "transaction_df.printSchema()"
   ]
  },
  {
   "cell_type": "code",
   "execution_count": 5,
   "metadata": {
    "collapsed": false
   },
   "outputs": [
    {
     "name": "stdout",
     "output_type": "stream",
     "text": [
      "+-----------------+------------+-------------+----------------+-------------+----------------+--------------+--------------+------------+--------------------+--------------+---------+-----+-----+-------------+------+-----------------+---------------+-------+---------+\n",
      "|              _c0|         _c1|          _c2|             _c3|          _c4|             _c5|           _c6|           _c7|         _c8|                 _c9|          _c10|     _c11| _c12| _c13|         _c14|  _c15|             _c16|           _c17|   _c18|     _c19|\n",
      "+-----------------+------------+-------------+----------------+-------------+----------------+--------------+--------------+------------+--------------------+--------------+---------+-----+-----+-------------+------+-----------------+---------------+-------+---------+\n",
      "|           shrimp|     almonds|      avocado|  vegetables mix| green grapes|whole weat flour|          yams|cottage cheese|energy drink|        tomato juice|low fat yogurt|green tea|honey|salad|mineral water|salmon|antioxydant juice|frozen smoothie|spinach|olive oil|\n",
      "|          burgers|   meatballs|         eggs|            null|         null|            null|          null|          null|        null|                null|          null|     null| null| null|         null|  null|             null|           null|   null|     null|\n",
      "|          chutney|        null|         null|            null|         null|            null|          null|          null|        null|                null|          null|     null| null| null|         null|  null|             null|           null|   null|     null|\n",
      "|           turkey|     avocado|         null|            null|         null|            null|          null|          null|        null|                null|          null|     null| null| null|         null|  null|             null|           null|   null|     null|\n",
      "|    mineral water|        milk|   energy bar|whole wheat rice|    green tea|            null|          null|          null|        null|                null|          null|     null| null| null|         null|  null|             null|           null|   null|     null|\n",
      "|   low fat yogurt|        null|         null|            null|         null|            null|          null|          null|        null|                null|          null|     null| null| null|         null|  null|             null|           null|   null|     null|\n",
      "|whole wheat pasta|french fries|         null|            null|         null|            null|          null|          null|        null|                null|          null|     null| null| null|         null|  null|             null|           null|   null|     null|\n",
      "|             soup| light cream|      shallot|            null|         null|            null|          null|          null|        null|                null|          null|     null| null| null|         null|  null|             null|           null|   null|     null|\n",
      "|frozen vegetables|   spaghetti|    green tea|            null|         null|            null|          null|          null|        null|                null|          null|     null| null| null|         null|  null|             null|           null|   null|     null|\n",
      "|     french fries|        null|         null|            null|         null|            null|          null|          null|        null|                null|          null|     null| null| null|         null|  null|             null|           null|   null|     null|\n",
      "|             eggs|    pet food|         null|            null|         null|            null|          null|          null|        null|                null|          null|     null| null| null|         null|  null|             null|           null|   null|     null|\n",
      "|          cookies|        null|         null|            null|         null|            null|          null|          null|        null|                null|          null|     null| null| null|         null|  null|             null|           null|   null|     null|\n",
      "|           turkey|     burgers|mineral water|            eggs|  cooking oil|            null|          null|          null|        null|                null|          null|     null| null| null|         null|  null|             null|           null|   null|     null|\n",
      "|        spaghetti|   champagne|      cookies|            null|         null|            null|          null|          null|        null|                null|          null|     null| null| null|         null|  null|             null|           null|   null|     null|\n",
      "|    mineral water|      salmon|         null|            null|         null|            null|          null|          null|        null|                null|          null|     null| null| null|         null|  null|             null|           null|   null|     null|\n",
      "|    mineral water|        null|         null|            null|         null|            null|          null|          null|        null|                null|          null|     null| null| null|         null|  null|             null|           null|   null|     null|\n",
      "|           shrimp|   chocolate|      chicken|           honey|          oil|     cooking oil|low fat yogurt|          null|        null|                null|          null|     null| null| null|         null|  null|             null|           null|   null|     null|\n",
      "|           turkey|        eggs|         null|            null|         null|            null|          null|          null|        null|                null|          null|     null| null| null|         null|  null|             null|           null|   null|     null|\n",
      "|           turkey|  fresh tuna|     tomatoes|       spaghetti|mineral water|       black tea|        salmon|          eggs|     chicken|extra dark chocolate|          null|     null| null| null|         null|  null|             null|           null|   null|     null|\n",
      "|        meatballs|        milk|        honey|    french fries|  protein bar|            null|          null|          null|        null|                null|          null|     null| null| null|         null|  null|             null|           null|   null|     null|\n",
      "+-----------------+------------+-------------+----------------+-------------+----------------+--------------+--------------+------------+--------------------+--------------+---------+-----+-----+-------------+------+-----------------+---------------+-------+---------+\n",
      "only showing top 20 rows\n",
      "\n"
     ]
    }
   ],
   "source": [
    "# Print the first 20 transactions of the dataframe\n",
    "transaction_df.show()"
   ]
  },
  {
   "cell_type": "markdown",
   "metadata": {},
   "source": [
    "## Apriori Algorithm\n",
    "\n",
    "You are already familiar with the Apriori algorithm. The points below summarise the entire algorithm for revision purposes.\n",
    "\n",
    "The Apriori algorithm mainly involves two parts:\n",
    "<br> \n",
    "- Part A: Frequent Itemset Generation\n",
    "<br> \n",
    "- Part B: Rule Generation\n",
    "\n",
    "Frequent Itemset Generation in Apriori Algorithm:\n",
    "\n",
    "![img%20-%20-0.jpg](attachment:img%20-%20-0.jpg)\n",
    "\n",
    "- The first step of the algorithm is to identify distinct items in the given set of transactions. Let’s say these are ({A}, {B}, {C}, {D}).\n",
    "\n",
    "- Once you have different items, your next step would be to calculate the support of each of these items. Items with support values less than the minimum support are removed from the distinct items list.\n",
    "\n",
    "- The next step is to create higher-order itemsets by merging the existing itemsets. This can be done using the candidate generation technique. We will cover this concept in detail while implementing the generation of higher item sets on code.\n",
    "\n",
    "- Using the 1 itemsets ({A}, {B}, {C}, {D}) and assuming that only A, B and C are frequent, we generate itemsets {A, B}, {A, C} and {B, C}. Note that none of the 2-item sets contains the item D. This is because we have applied the Apriori principle. Since D is infrequent, any item set containing D, e.g., {A, D}, {C, D} and {B, C, D} will automatically become infrequent.\n",
    "\n",
    "- Once you have the higher-order itemsets, you can calculate the support for these item sets and again remove the itemsets that do not qualify the minimum support criteria.\n",
    "\n",
    "- This ( n-1 ) -item sets then become inputs for the generation of n-item sets, and once again the item sets that do not satisfy the minimum support criteria are removed. This process continues until no new itemsets can be generated.\n",
    "\n",
    " \n",
    "\n",
    "Rule Generation in the Apriori Algorithm:\n",
    "\n",
    "- Once you have all the frequent itemsets, we can proceed with the rule generation process. We begin with 2-itemsets and generate all the possible rules.\n",
    "\n",
    "- For each rule, we check the corresponding confidence value and return the rule only if its confidence is above the minimum confidence level.\n",
    "\n",
    "- In order to avoid generating redundant rules, we utilise confidence-based pruning. Using this, we eliminate the generation of higher-order rules if their corresponding lower-order rules are infrequent. This portion will be explained in more detail in the code demonstration of rule generation."
   ]
  },
  {
   "cell_type": "markdown",
   "metadata": {},
   "source": [
    "### Part A. Frequent Itemset generation\n",
    "\n",
    "This part of the algoritm is divided as follows:\n",
    "\n",
    "- Extracting unique items\n",
    "\n",
    "- Computing the support value for individual itemsets\n",
    "\n",
    "- Generating higher-order itemsets\n",
    "\n",
    "- Combining the functions above to generate all the frequent itemsets\n",
    "\n",
    "\n",
    "We have defined different functions to perfrom the tasks mentioned above. All the functions are called under the main function **'apriori()'** that is defined in the later parts of the notebook. You can refer to the function to understand the purpose of each function and how they are called to perform the required task.\n",
    "\n",
    "Let's see each of them one by one."
   ]
  },
  {
   "cell_type": "markdown",
   "metadata": {},
   "source": [
    "Functions defined:\n",
    " - generate_unique_item_set() - To generate the dataFrame that holds all the unique items in the transaction base in a single column\n",
    " \n",
    "![img%20-%201.jpg](attachment:img%20-%201.jpg)\n",
    " \n",
    " - remove_duplicate_columns() - Remove the columns with duplicate values\n",
    " \n",
    "![img%20-%202.jpg](attachment:img%20-%202.jpg)"
   ]
  },
  {
   "cell_type": "code",
   "execution_count": 6,
   "metadata": {
    "collapsed": true
   },
   "outputs": [],
   "source": [
    "# Function to remove the columns with duplicate values\n",
    "\n",
    "def remove_duplicate_columns(x):\n",
    "    # Length of the column\n",
    "    col_len = len(x)\n",
    "    \n",
    "    # Empty RDD - set of values\n",
    "    columns = set()\n",
    "    \n",
    "    # Removing any additional spaces from the elements and adding the elements into the column from RDD 'x'\n",
    "    for col in range(col_len):\n",
    "        x_col = str(x[col]).strip()\n",
    "        columns.add(x_col)\n",
    "    \n",
    "    # To check if elements are present in the provided dataframe/RDD \n",
    "    if len(columns) < col_len:\n",
    "        return []\n",
    "    \n",
    "    # Returning the sorted list of items in each element as tuple\n",
    "    return [(tuple(sorted(columns)))]"
   ]
  },
  {
   "cell_type": "markdown",
   "metadata": {},
   "source": [
    "#### Reasoning\n",
    "What is the use of strip() funciton in defining the remove_duplicate_columns() function?"
   ]
  },
  {
   "cell_type": "markdown",
   "metadata": {},
   "source": [
    "Strip Function is used to remove any trailing spaces. If not done this will cause same string having spaces (in one of them) as different one. \"abc \" != \"abc\" but \"abc \".strip()==\"abc\""
   ]
  },
  {
   "cell_type": "code",
   "execution_count": 7,
   "metadata": {
    "collapsed": true
   },
   "outputs": [],
   "source": [
    "# For the given dataset writing a function to return the list of distinct items in the dataset\n",
    "\n",
    "def generate_unique_item_set(df):\n",
    "    # empty dataframe\n",
    "    total_item_set_df = None\n",
    "    \n",
    "    # Iteration over each column - 20 columns\n",
    "    for col_index in range(20):\n",
    "        \n",
    "        # Loading the elements of each column individually\n",
    "        _c_df = df.select(\"_c\" + str(col_index))\n",
    "        \n",
    "        if total_item_set_df is None:\n",
    "            # None for the first iteration in the loop\n",
    "            total_item_set_df = _c_df\n",
    "            \n",
    "        else:\n",
    "            # After the first iteration, appending the entries from each column to total_item_set_df\n",
    "            total_item_set_df = total_item_set_df.union(_c_df)\n",
    "            \n",
    "    # Return Value: Dataframe with unique items (no repetition) and null values removed from the dataFrame        \n",
    "    \n",
    "    # df.na provides all the null values; all the null values must be dropped\n",
    "    # .rdd converts the DataFrame to RDD\n",
    "    # remove_duplicate_columns must be applied to elements of RDD such that each item in transaction is a separate element \n",
    "    # Remember that the function 'remove_duplicate_columns' is applied to each element of the RDD, in short, every row of the dataframe should be passed into it. \n",
    "    \n",
    "    return total_item_set_df.select(\"_c0\").na.drop().rdd.flatMap(remove_duplicate_columns).distinct().toDF()"
   ]
  },
  {
   "cell_type": "markdown",
   "metadata": {},
   "source": [
    "#### Reasoning\n",
    "\n",
    "Can you tell why only the column '\\_c0' is extracted from the function above? Provide your answer below."
   ]
  },
  {
   "cell_type": "markdown",
   "metadata": {},
   "source": [
    "df.union will stack all column to a single columnn. Its similar to sql union hence we will get all coulumns data in single column which we are selecting to find unique elements. For itemsets also {a,b,c} all itemsets in columns will be stacked vertically."
   ]
  },
  {
   "cell_type": "markdown",
   "metadata": {},
   "source": [
    "<br> Use the above function **generate_unique_item_set** and the dataframe **transaction_df** to create the dataFrame **item_set** that stores the the name of all the items in the transaction base as independent elements. <br>"
   ]
  },
  {
   "cell_type": "code",
   "execution_count": 8,
   "metadata": {
    "collapsed": true
   },
   "outputs": [],
   "source": [
    "# Syntax structure: item_sets = function(dataframe)\n",
    "\n",
    "item_sets = generate_unique_item_set(transaction_df)"
   ]
  },
  {
   "cell_type": "code",
   "execution_count": 9,
   "metadata": {
    "collapsed": false
   },
   "outputs": [
    {
     "name": "stdout",
     "output_type": "stream",
     "text": [
      "+--------------------+\n",
      "|                  _1|\n",
      "+--------------------+\n",
      "|           asparagus|\n",
      "|            pancakes|\n",
      "|            zucchini|\n",
      "|   whole wheat pasta|\n",
      "|         blueberries|\n",
      "|              shrimp|\n",
      "|           spaghetti|\n",
      "|             burgers|\n",
      "|       strong cheese|\n",
      "|              melons|\n",
      "|         french wine|\n",
      "|               cream|\n",
      "|extra dark chocolate|\n",
      "|         babies food|\n",
      "|                corn|\n",
      "|           meatballs|\n",
      "|          body spray|\n",
      "|                mint|\n",
      "|        energy drink|\n",
      "|            escalope|\n",
      "+--------------------+\n",
      "only showing top 20 rows\n",
      "\n"
     ]
    }
   ],
   "source": [
    "# Print the first twenty rows of the item_sets dataframe\n",
    "item_sets.show()"
   ]
  },
  {
   "cell_type": "code",
   "execution_count": 10,
   "metadata": {
    "collapsed": false
   },
   "outputs": [
    {
     "data": {
      "text/plain": [
       "119"
      ]
     },
     "execution_count": 10,
     "metadata": {},
     "output_type": "execute_result"
    }
   ],
   "source": [
    "# Give the number of unique items in the transaction dataset\n",
    "item_sets.count()"
   ]
  },
  {
   "cell_type": "markdown",
   "metadata": {},
   "source": [
    "<br>The itemset should contain all the unique items in the dataframe after you have removed all the duplicate values. Now, this dataframe will be helpful in creating the frequent item set ahead."
   ]
  },
  {
   "cell_type": "markdown",
   "metadata": {},
   "source": [
    "__________________________"
   ]
  },
  {
   "cell_type": "markdown",
   "metadata": {},
   "source": [
    "Now, you will have the first order candidate itemset inside a dataframe. This dataframe will be used in generating the frequent itemset of different orders. Following functions have been defined to help you obtain the frequent itemset:\n",
    "\n",
    " - filter_and_map_transaction()\n",
    " - get_all_possible_candidate_sets()\n",
    " - get_freq_item_sets()\n",
    " - is_freq_item_set_not_empty()\n",
    " - apriori()\n",
    " "
   ]
  },
  {
   "cell_type": "markdown",
   "metadata": {},
   "source": [
    "<br>**filter_and_map_transaction()**\n",
    "<br> <br>The function is expected to compare each item sold by the company with the candidate set. If the item is present in the transaction, the corresponding item in the candidate set must be mapped with value 1 and if they are absent, then the value must be 0.\n",
    "\n",
    "Refer to the image provided after the function definition."
   ]
  },
  {
   "cell_type": "code",
   "execution_count": 11,
   "metadata": {
    "collapsed": true
   },
   "outputs": [],
   "source": [
    "def filter_and_map_transaction(x, candidate_set_shared):\n",
    "    \n",
    "    c_k = []\n",
    "    \n",
    "    rows = len(candidate_set_shared.value)\n",
    "    cols = len(candidate_set_shared.value[0])\n",
    "    \n",
    "    # Checking each transaction\n",
    "    for row_i in range(rows):\n",
    "        item_set = set()\n",
    "        for col_i in range(cols):\n",
    "            item_set.add(candidate_set_shared.value[row_i][col_i])\n",
    "        \n",
    "        # Map the condition with the correct value (1/0)\n",
    "        if item_set.issubset(set(x)):\n",
    "            c_k.append((candidate_set_shared.value[row_i], 1))\n",
    "        else:\n",
    "            c_k.append((candidate_set_shared.value[row_i], 0))\n",
    "    return c_k"
   ]
  },
  {
   "cell_type": "markdown",
   "metadata": {},
   "source": [
    "Sample: The items from the first transaction are displayed along with the function. You can check how the values are mapped with 1 and 0.\n",
    "\n",
    "![img%20-%203.jpg](attachment:img%20-%203.jpg)\n",
    "\n",
    "<br>"
   ]
  },
  {
   "cell_type": "markdown",
   "metadata": {},
   "source": [
    "**get_all_possible_candidate_sets()**\n",
    "<br> <br>The function is used to generate itemsets of higher order from the first order. The value 'k+1' denotes the order number and the function creates itemsets of order 'k+1' by merging the two input itemset of order k & 1 respectively."
   ]
  },
  {
   "cell_type": "code",
   "execution_count": 12,
   "metadata": {
    "collapsed": true
   },
   "outputs": [],
   "source": [
    "def get_all_possible_candidate_sets(candidate_item_sets_k, candidate_item_sets_0):\n",
    "    \n",
    "    # Convert the elements of the candidate_item_sets_k from the list format into tuple\n",
    "    # You can refer to the commands below to check why only the first element is used for conversion\n",
    "    candidate_item_sets_k = candidate_item_sets_k.map(lambda x: tuple(x[0])).toDF()\n",
    "    # toDF() converts the rdd into a dataFrame\n",
    "    \n",
    "    # Returning the k+1 order\n",
    "    return candidate_item_sets_k.crossJoin(candidate_item_sets_0).rdd.flatMap(remove_duplicate_columns).distinct()\n",
    "    # crossJoin will help to combine one element of one dataFrame with all the elements of another dataFrame"
   ]
  },
  {
   "cell_type": "markdown",
   "metadata": {},
   "source": [
    "#### Reasoning\n",
    "\n",
    "What is the purpose of using the function crossjoin()? You can check the documentation to understand the output of the function."
   ]
  },
  {
   "cell_type": "markdown",
   "metadata": {},
   "source": [
    "Cross join is used to create a cartesian product, so that every possible combination between candidate of order k and k-1 is derived. Basically each item of first set is mapped to every item of second set. {a,b}.crossjoin({c,d}) will give {a,c},{a,d}, {b,c}, {b,d}"
   ]
  },
  {
   "cell_type": "markdown",
   "metadata": {},
   "source": [
    "<br>**get_freq_item_sets()**\n",
    "<br> <br>The function is used to generate filtered itemsets from the provided dataFrame based on the minimum support value. It filters candidates sets by the minimum support set by main Apriori function. Output of this should be repeatedly added in a array to generate the final output of main apriori function."
   ]
  },
  {
   "cell_type": "code",
   "execution_count": 13,
   "metadata": {
    "collapsed": true
   },
   "outputs": [],
   "source": [
    "# Funciton to generate frequent itemset\n",
    "\n",
    "def get_freq_item_sets(total_records, candidate_sets_shared, transaction_df_rdd, min_support):\n",
    "\n",
    "    \"\"\"\n",
    "    Attributes\n",
    "    ----------\n",
    "    total_records: Total number of records in the dataFrame\n",
    "    \n",
    "    candidate_sets_shared: List of items in the transaction base\n",
    "    \n",
    "    transaction_df_rdd: Transactions dataFrame converted into an RDD\n",
    "    \n",
    "    min_support: Minimum support threshold\n",
    "    ----------\n",
    "    \n",
    "    \"\"\"\n",
    "    \n",
    "    #filtered_item_set = transaction_df_rdd.flatMap(lambda x: filter_and_map_transaction(x, candidate_sets_shared)) \\\n",
    "    filtered_item_set = transaction_df_rdd.flatMap(lambda x: filter_and_map_transaction(x, candidate_sets_shared)).reduceByKey(lambda a, b: a+b).map(lambda x: (x[0], x[1]/total_records)).filter(lambda x: x[1]>=min_support)\n",
    "\n",
    "                                          \n",
    "                                          # Sample output from filter_and_map_transaction function can be seen above\n",
    "                                          # Now complete the function to generate the frequent item set\n",
    "                                          # support value = Frequency of the item in the transactions/total number of transactions\n",
    "                                          \n",
    "                                          # 1. function to calculate frequency of each item in the transaction base\n",
    "                                          #.______________________ \\\n",
    "                                          \n",
    "                                          # 2. funciton to calculate the support value (formula in comments above) \n",
    "                                          # You are expected to provide the total number of records when you call the function.\n",
    "                                          #.______________________ \\\n",
    "                                          \n",
    "                                          # 3. funciton to filter the items that have support value greater than the min_support\n",
    "                                          # You are expected to provide the min_support when you call the function.\n",
    "                                          #.______________________\n",
    "    \n",
    "    return filtered_item_set\n",
    "\n"
   ]
  },
  {
   "cell_type": "markdown",
   "metadata": {},
   "source": [
    "<br>**is_freq_item_set_not_empty()**\n",
    "<br> <br>The function is used to check if the frequent itemset has any transactions or not.\n",
    "<br>"
   ]
  },
  {
   "cell_type": "code",
   "execution_count": 14,
   "metadata": {
    "collapsed": true
   },
   "outputs": [],
   "source": [
    "# Function to check if \"freq_item_sets\" has relevant values (Not empty and all the values are not None)\n",
    "\n",
    "# The first condition is defined to check if there are elements in the itemset. \n",
    "# There might be a case that elements are present but all of them are none.\n",
    "# The second condition checks if all the elements of the itemset are not none.\n",
    "\n",
    "def is_freq_item_set_not_empty(freq_item_sets):\n",
    "    return (freq_item_sets.count() > 0) and (freq_item_sets is not None)\n",
    "    \n",
    "    # Provide the correct logical operator in the condition above "
   ]
  },
  {
   "cell_type": "markdown",
   "metadata": {},
   "source": [
    "<br>**apriori()**\n",
    "<br> <br>This is the main function and is used to return all frequent item sets along with their support values. It should return an array of Spark dataFrames. \n",
    "\n",
    " - Array index should indicate the order of the frequent item set. For example data frame at index i should contain frequent item sets of order (i + 1).\n",
    " - Uses all the functions defined above to provide the results.\n",
    " "
   ]
  },
  {
   "cell_type": "code",
   "execution_count": 15,
   "metadata": {
    "collapsed": true
   },
   "outputs": [],
   "source": [
    "from pyspark.sql.types import StructType, ArrayType, StructField, DoubleType, StringType\n",
    "\n",
    "def apriori(item_sets, transaction_df_rdd, min_support):\n",
    "    \n",
    "    \"\"\"\n",
    "    Attributes\n",
    "    ----------\n",
    "    item_sets: DataFrame that has all the items present in the transactions\n",
    "    \n",
    "    transaction_df_rdd: Transacations in the form of an RDD\n",
    "    \n",
    "    min_support: Minimum support threshold\n",
    "    -----------\n",
    "    \"\"\"\n",
    "    \n",
    "    # Calculate the total number of transactions in the dataset and store the count in total_records\n",
    "    total_records = transaction_df_rdd.count()\n",
    "\n",
    "    # Defining a blank list that will store the frequent itemsets\n",
    "    freq_item_sets_all_orders = []\n",
    "\n",
    "    # Candidate sets of order 1 will be the complete item list from the transactions\n",
    "    # As you can see, broadcast function is used here. It is used to broadcast a variable on all the executors.\n",
    "    candidate_sets_order_1 = spark.sparkContext.broadcast(item_sets.collect())\n",
    "    \n",
    "    # Complete the function to generate the filtered item set of order 1. Check the function definition of 'get_freq_item_sets' to understand the attributes.\n",
    "    frequent_item_sets_order_1 = get_freq_item_sets(total_records, candidate_sets_order_1, transaction_df_rdd, min_support)\n",
    "    \n",
    "    # Appending the results of frequent_item_sets_order_1 in the freq_item_sets_all_orders\n",
    "    freq_item_sets_all_orders.append(frequent_item_sets_order_1)\n",
    "    \n",
    "    # Convert the elements of the rdd 'frequent_item_sets_order_1' into a dataFrame with each element as tuple\n",
    "    frequent_item_sets_order_1_df = frequent_item_sets_order_1.map(lambda x:tuple(x[0])).toDF()\n",
    "    \n",
    "    # Generating higher order rules\n",
    "    k = 0\n",
    "    \n",
    "    # Loop will run till higher order item sets can be generated\n",
    "    while is_freq_item_set_not_empty(freq_item_sets_all_orders[k]):\n",
    "        \n",
    "        # Generating candidate sets of order k+1 \n",
    "        current_candidate_sets = get_all_possible_candidate_sets(freq_item_sets_all_orders[k], frequent_item_sets_order_1_df)\n",
    "        \n",
    "        # Broadcasting candidate sets\n",
    "        current_candidate_sets = spark.sparkContext.broadcast(current_candidate_sets.collect())\n",
    "        \n",
    "        # Filtering candidate sets to get the frequent item sets of order 'k+1' \n",
    "        current_frequent_item_sets = get_freq_item_sets(total_records, current_candidate_sets, transaction_df_rdd, min_support)\n",
    "        \n",
    "        # Appending the list 'freq_item_sets_all_orders' with the frequent itemset of order k+1\n",
    "        freq_item_sets_all_orders.append(current_frequent_item_sets)\n",
    "        \n",
    "        # freq_item_sets_all_orders is a list of RDDs where the element k stores the frequent item set of order k+1\n",
    "        \n",
    "        # increasing k by 1\n",
    "        k += 1\n",
    "    \n",
    "    \n",
    "    return freq_item_sets_all_orders"
   ]
  },
  {
   "cell_type": "markdown",
   "metadata": {},
   "source": [
    "All the functions that we have created until now will come into play in the Apriori function. All the possible k-order itemsets will be generated, and the support will be calculated for each itemset. The freqItemsets of all orders will be stored\n",
    "and returned once the function is called."
   ]
  },
  {
   "cell_type": "code",
   "execution_count": 16,
   "metadata": {
    "collapsed": false
   },
   "outputs": [
    {
     "name": "stdout",
     "output_type": "stream",
     "text": [
      "[PythonRDD[154] at RDD at PythonRDD.scala:53, PythonRDD[155] at RDD at PythonRDD.scala:53, PythonRDD[156] at RDD at PythonRDD.scala:53, PythonRDD[157] at RDD at PythonRDD.scala:53]\n"
     ]
    }
   ],
   "source": [
    "# Generate the frequent item set using the apriori function created above.\n",
    "# Minimum support = 0.01\n",
    "# Check the format in which each attribute must be provided\n",
    "\n",
    "transaction_df_rdd = transaction_df.rdd\n",
    "freq_item_sets_all_orders = apriori(item_sets, transaction_df_rdd, 0.01)\n",
    "\n",
    "# freq_item_sets_all_orders is a list of RDDs where the element k stores the frequent item set of order k+1\n",
    "# Print freq_item_sets_all_orders to check the structure\n",
    "\n",
    "print(freq_item_sets_all_orders)"
   ]
  },
  {
   "cell_type": "markdown",
   "metadata": {},
   "source": [
    "The rules for each order are now stored in the following list: **freq_item_sets_all_orders**\n",
    "\n",
    "Now, print the support value for every frequent itemset order in the form of a dataFrame. The sample outputs have been provided."
   ]
  },
  {
   "cell_type": "code",
   "execution_count": 17,
   "metadata": {
    "collapsed": false
   },
   "outputs": [
    {
     "data": {
      "text/plain": [
       "[(Row(_1='fromage blanc'), 0.013598186908412212),\n",
       " (Row(_1='pepper'), 0.026529796027196375),\n",
       " (Row(_1='grated cheese'), 0.0523930142647647),\n",
       " (Row(_1='soup'), 0.05052659645380616),\n",
       " (Row(_1='pasta'), 0.01573123583522197),\n",
       " (Row(_1='cottage cheese'), 0.03186241834422077),\n",
       " (Row(_1='oil'), 0.023063591521130515),\n",
       " (Row(_1='milk'), 0.12958272230369283),\n",
       " (Row(_1='almonds'), 0.020397280362618318),\n",
       " (Row(_1='yogurt cake'), 0.027329689374750034),\n",
       " (Row(_1='frozen vegetables'), 0.09532062391681109),\n",
       " (Row(_1='cereals'), 0.025729902679642713),\n",
       " (Row(_1='salmon'), 0.04252766297826956),\n",
       " (Row(_1='mint'), 0.0174643380882549),\n",
       " (Row(_1='magazines'), 0.010931875749900012),\n",
       " (Row(_1='cookies'), 0.08038928142914278),\n",
       " (Row(_1='avocado'), 0.03332888948140248),\n",
       " (Row(_1='chicken'), 0.05999200106652446),\n",
       " (Row(_1='eggs'), 0.17970937208372217),\n",
       " (Row(_1='black tea'), 0.014264764698040262)]"
      ]
     },
     "execution_count": 17,
     "metadata": {},
     "output_type": "execute_result"
    }
   ],
   "source": [
    "# First order itemsets that have support value greater than the threshold (Print 20 rows)\n",
    "freq_item_sets_all_orders[0].take(20)"
   ]
  },
  {
   "cell_type": "markdown",
   "metadata": {},
   "source": [
    "![img%20-%204.JPG](attachment:img%20-%204.JPG)"
   ]
  },
  {
   "cell_type": "code",
   "execution_count": 18,
   "metadata": {
    "collapsed": false
   },
   "outputs": [
    {
     "data": {
      "text/plain": [
       "[(('frozen smoothie', 'spaghetti'), 0.01559792027729636),\n",
       " (('eggs', 'herb & pepper'), 0.012531662445007332),\n",
       " (('mineral water', 'red wine'), 0.010931875749900012),\n",
       " (('chocolate', 'tomatoes'), 0.013998133582189041),\n",
       " (('eggs', 'mineral water'), 0.05092654312758299),\n",
       " (('chocolate', 'soup'), 0.010131982402346354),\n",
       " (('mineral water', 'soup'), 0.023063591521130515),\n",
       " (('green tea', 'spaghetti'), 0.026529796027196375),\n",
       " (('cereals', 'mineral water'), 0.010265297960271964),\n",
       " (('chocolate', 'frozen smoothie'), 0.01493134248766831),\n",
       " (('cake', 'mineral water'), 0.027463004932675644),\n",
       " (('spaghetti', 'tomatoes'), 0.020930542594320756),\n",
       " (('chocolate', 'cookies'), 0.010398613518197574),\n",
       " (('eggs', 'frozen smoothie'), 0.011065191307825623),\n",
       " (('chocolate', 'low fat yogurt'), 0.014798026929742702),\n",
       " (('frozen vegetables', 'green tea'), 0.01439808025596587),\n",
       " (('frozen vegetables', 'tomatoes'), 0.0161311825089988),\n",
       " (('chicken', 'chocolate'), 0.014664711371817091),\n",
       " (('eggs', 'green tea'), 0.025463271563791495),\n",
       " (('milk', 'shrimp'), 0.01759765364618051)]"
      ]
     },
     "execution_count": 18,
     "metadata": {},
     "output_type": "execute_result"
    }
   ],
   "source": [
    "# Second order itemsets that have support value greater than the threshold (Print 20 rows)\n",
    "freq_item_sets_all_orders[1].take(20)"
   ]
  },
  {
   "cell_type": "markdown",
   "metadata": {},
   "source": [
    "![img%20-%205.JPG](attachment:img%20-%205.JPG)"
   ]
  },
  {
   "cell_type": "code",
   "execution_count": 19,
   "metadata": {
    "collapsed": false,
    "scrolled": true
   },
   "outputs": [
    {
     "data": {
      "text/plain": [
       "[(('chocolate', 'eggs', 'mineral water'), 0.013464871350486601),\n",
       " (('chocolate', 'milk', 'mineral water'), 0.013998133582189041),\n",
       " (('chocolate', 'eggs', 'spaghetti'), 0.010531929076123183),\n",
       " (('ground beef', 'milk', 'mineral water'), 0.011065191307825623),\n",
       " (('mineral water', 'pancakes', 'spaghetti'), 0.011465137981602452),\n",
       " (('chocolate', 'mineral water', 'spaghetti'), 0.01586455139314758),\n",
       " (('mineral water', 'olive oil', 'spaghetti'), 0.010265297960271964),\n",
       " (('frozen vegetables', 'mineral water', 'spaghetti'), 0.011998400213304892),\n",
       " (('chocolate', 'milk', 'spaghetti'), 0.010931875749900012),\n",
       " (('french fries', 'mineral water', 'spaghetti'), 0.010131982402346354),\n",
       " (('chocolate', 'ground beef', 'mineral water'), 0.010931875749900012),\n",
       " (('eggs', 'milk', 'mineral water'), 0.013064924676709772),\n",
       " (('frozen vegetables', 'milk', 'mineral water'), 0.011065191307825623),\n",
       " (('eggs', 'ground beef', 'mineral water'), 0.010131982402346354),\n",
       " (('eggs', 'mineral water', 'spaghetti'), 0.014264764698040262),\n",
       " (('ground beef', 'mineral water', 'spaghetti'), 0.017064391414478068),\n",
       " (('milk', 'mineral water', 'spaghetti'), 0.01573123583522197)]"
      ]
     },
     "execution_count": 19,
     "metadata": {},
     "output_type": "execute_result"
    }
   ],
   "source": [
    "# Third order itemsets that have support value greater than the threshold (Print 20 rows)\n",
    "freq_item_sets_all_orders[2].take(20)"
   ]
  },
  {
   "cell_type": "markdown",
   "metadata": {},
   "source": [
    "![img%20-%206.JPG](attachment:img%20-%206.JPG)"
   ]
  },
  {
   "cell_type": "markdown",
   "metadata": {},
   "source": [
    "Congratulations! You now have your frequent itemsets. Let’s move on to Rule Generation. Hope you had no trouble\n",
    "in completing the codes until now. If you have any doubts regarding the functions or commands used, you can keep a note of them and discuss in one of the live sessions.\n",
    "\n",
    "The next part of the assignment is hard and involves patience to understand. You must try to understand the flow of the defined functions and should be able to understand what each function is doing.\n",
    "\n",
    "\n",
    "### B. Rule generation"
   ]
  },
  {
   "cell_type": "markdown",
   "metadata": {},
   "source": [
    "Let us refresh our memory on the properties of rules. \n",
    "\n",
    "Given the rule {A ---> B, C}:\n",
    "- A is the antecedent\n",
    "- (B, C) is the consequent\n",
    "\n",
    "<br>\n",
    "In mathematical terms, confidence is defined as: \n",
    "\n",
    "**Confidence = support(A, B, C) / support(A)**\n",
    "\n",
    "<br>\n",
    "Notice that {A, B, C} is the frequent itemset and A is the antecedent. Hence, in the set format, we can write the formula as:\n",
    "\n",
    "**Confidence = support(Frequent Item Set) / support(Frequent Item Set - Consequent)**"
   ]
  },
  {
   "cell_type": "markdown",
   "metadata": {},
   "source": [
    "Now, let's try to generate the confidence score. \n",
    "\n",
    "- The code for generating the rules is tough. Therefore, you are provided only with few blanks to fill based on the understanding of Spark and logic used.\n",
    "- Due to the limitations of Spark, the code provides the confidence scores for single antecedant only. "
   ]
  },
  {
   "cell_type": "markdown",
   "metadata": {},
   "source": [
    "To calculate the confidence score, you will have to create subsets from the frequent item set to check all the possible combinations which may result in a higher confidence value than the threshold. Once you have all the subsets, you can use the support value associated with each subset to find the confidence score.\n",
    "\n",
    "As the first step, we will create the subsets.\n",
    "\n",
    "**powerset()**"
   ]
  },
  {
   "cell_type": "code",
   "execution_count": 20,
   "metadata": {
    "collapsed": true
   },
   "outputs": [],
   "source": [
    "# Function to generate all possible subsets from a set\n",
    "# You can google powerset if you want to read more about it\n",
    "\n",
    "def powerset(s):\n",
    "    slist = list(s)\n",
    "    result = [[]]\n",
    "    for x in slist:\n",
    "        \n",
    "        # Here, you may want to explore what the purpose of function 'extend' is\n",
    "        # Note that it is a reccursive function that adds elements to a list. It is similar to the extend() function in Python.\n",
    "        result.extend([subset + [x] for subset in result])\n",
    "        \n",
    "    return [item_set for item_set in result if (len(item_set) > 0 and len(item_set) < len(slist))]"
   ]
  },
  {
   "cell_type": "markdown",
   "metadata": {},
   "source": [
    "#### Reasoning\n",
    "\n",
    "Can you use the function append() in place of the function extend() in the above code?"
   ]
  },
  {
   "cell_type": "markdown",
   "metadata": {},
   "source": [
    "No, appending will add the whole list as a single item. We need the results to be unpacked hence extend, it will add individual item to the result list."
   ]
  },
  {
   "cell_type": "markdown",
   "metadata": {},
   "source": [
    "<br>**generate_rules_with_confidence**\n",
    "\n",
    "The function will help you generate rules with the confidence score \n",
    "<br>"
   ]
  },
  {
   "cell_type": "code",
   "execution_count": 21,
   "metadata": {
    "collapsed": true
   },
   "outputs": [],
   "source": [
    "from pyspark.sql import Row\n",
    "\n",
    "def generate_rules_with_confidence(x, k, freq_item_sets_map_all_orders_shared, min_confidence):\n",
    "    \n",
    "    \"\"\"\n",
    "    Attributes\n",
    "    ----------\n",
    "    \n",
    "    x: freq_item_sets_all_orders; list that stores the frequent item set with the confidence score\n",
    "    \n",
    "    k: order of the frequent item set\n",
    "    \n",
    "    freq_item_sets_map_all_orders_shared: broadcasted map (key-value pair) of frequent item sets where \n",
    "    - key is the subset and \n",
    "    - value is the corresponding support\n",
    "    \n",
    "    min_confidence: Threshold confidence value \n",
    "    \n",
    "    \"\"\"\n",
    "    \n",
    "    # first column of the RDD is extracted as a frequent item set\n",
    "    freq_item_set = set(x[0])\n",
    "    \n",
    "    # all_subsets stores all the subsets from the freq_item_set\n",
    "    all_subsets = powerset(freq_item_set)\n",
    "    \n",
    "    # Defining an empty list to store the rules\n",
    "    rules = []\n",
    "    \n",
    "    # Converting the broadcasted values in the required format (elements as tuple)\n",
    "    freq_item_set_support = freq_item_sets_map_all_orders_shared[k].value[tuple(sorted(freq_item_set))]\n",
    "    \n",
    "    # Generated rules contain single element as antecendent. The reason is we used cross join for generating candidate\n",
    "    # itemsets instead of doing or operation of two candidate sets as the for the later completely distributed approach\n",
    "    # cannot be implemented.\n",
    "    \n",
    "    candidate_set_key = ''\n",
    "    subset_k = 0\n",
    "    for subset in all_subsets:\n",
    "        antecedent = subset\n",
    "        \n",
    "        # Consequent is generated by removing the antecedent from the frequent item set\n",
    "        consequent = freq_item_set - set(antecedent)\n",
    "    \n",
    "        # Different calculation when there is a single element in consequent\n",
    "        if (len(consequent) == 1):\n",
    "            single_item = consequent.pop()\n",
    "            candidate_set_key = Row(_1=single_item)\n",
    "            subset_k = 1\n",
    "            consequent.add(single_item)\n",
    "        else:\n",
    "            candidate_set_key = tuple(sorted(consequent))\n",
    "            subset_k = len(consequent) \n",
    "\n",
    "        # support value for the consequent\n",
    "        # value.get helps you to obtain only the value from the key-value pair\n",
    "        consequent_support = freq_item_sets_map_all_orders_shared[subset_k-1].value.get(candidate_set_key)\n",
    "        \n",
    "        if (consequent_support is not None):\n",
    "            \n",
    "            # Calculating confidence value for the rule\n",
    "            confidence = freq_item_set_support/consequent_support\n",
    "        \n",
    "            # Addition of rule if the confidence value is above threshold\n",
    "            if (confidence >= min_confidence):\n",
    "                rules.append((list(antecedent), list(consequent), confidence))      \n",
    "\n",
    "    return rules"
   ]
  },
  {
   "cell_type": "markdown",
   "metadata": {},
   "source": [
    "**generate_association_rules_for_k_order** \n",
    "\n",
    "It generates association rules for frequent itemsets of order k "
   ]
  },
  {
   "cell_type": "code",
   "execution_count": 24,
   "metadata": {
    "collapsed": false
   },
   "outputs": [],
   "source": [
    "def generate_association_rules_for_k_order(k, freq_item_sets_order_k, \\\n",
    "                                           freq_item_sets_map_all_orders_shared, min_confidence):\n",
    "    \"\"\"\n",
    "    Attributes\n",
    "    ----------\n",
    "    \n",
    "    k: order of the frequent item set\n",
    "    \n",
    "    freq_item_sets_map_all_orders_shared: broadcasted map (key-value pair) of frequent item sets where \n",
    "    - key is the subset and \n",
    "    - value is the corresponding support\n",
    "    \n",
    "    min_confidence: Threshold confidence value \n",
    "    \n",
    "    \"\"\"\n",
    "    # Function generate_rules_with_confidence is called as flat map operation over the frequent itemsets of order k\n",
    "    return freq_item_sets_order_k.flatMap(lambda x: generate_rules_with_confidence(x, \\\n",
    "                                  k,freq_item_sets_map_all_orders_shared, \\\n",
    "                                  min_confidence)).toDF(('Antecedent', 'Consequent', 'Confidence'))\n",
    "                                  # Converting the RDD into Dataframe and changing the column names\n",
    "                                 "
   ]
  },
  {
   "cell_type": "markdown",
   "metadata": {},
   "source": [
    "**generate_association_rules**\n",
    "\n",
    "It iterates over the all frequent itemsets of different orders and makes a union of association rules"
   ]
  },
  {
   "cell_type": "code",
   "execution_count": 25,
   "metadata": {
    "collapsed": true
   },
   "outputs": [],
   "source": [
    "def generate_association_rules(freq_item_sets_all_orders, min_confidence):\n",
    "    \n",
    "    \"\"\"\n",
    "    Attributes\n",
    "    ----------\n",
    "    \n",
    "    freq_item_sets_all_orders: list of all frquent itemsets (calculated above) of different orders\n",
    "    \n",
    "    min_confidence: Threshold confidence value \n",
    "    \n",
    "    \"\"\"\n",
    "\n",
    "    # As you can see, broadcast function is used here. It is used to broadcast a variable on all the executors.\n",
    "    freq_item_sets_map_all_orders_shared = [spark.sparkContext.broadcast(freq_item_sets.collectAsMap()) \\\n",
    "                                                                     for freq_item_sets in freq_item_sets_all_orders]\n",
    "    \n",
    "    l = len(freq_item_sets_map_all_orders_shared)\n",
    "    \n",
    "    # Calling the function defined above to generate rules from frequent itemset of order 2\n",
    "    # ___________\n",
    "    association_rules_df = generate_association_rules_for_k_order(1, freq_item_sets_all_orders[1], \\\n",
    "                                                                  freq_item_sets_map_all_orders_shared, \\\n",
    "                                                                  min_confidence)\n",
    "    \n",
    "    for k in range(2, l):\n",
    "        if is_freq_item_set_not_empty(freq_item_sets_all_orders[k]):\n",
    "            # Creating union of all association rules for different frequent itemsets\n",
    "            \n",
    "            association_rules_df = association_rules_df.union(generate_association_rules_for_k_order(k, \\\n",
    "                                                        freq_item_sets_all_orders[k], \\\n",
    "                                                        freq_item_sets_map_all_orders_shared, min_confidence))\n",
    "    return association_rules_df"
   ]
  },
  {
   "cell_type": "code",
   "execution_count": 26,
   "metadata": {
    "collapsed": true
   },
   "outputs": [],
   "source": [
    "# Applying the generate_association_rules function over the list of all frequent itemsets with threshold confidence\n",
    "# score as 0.099 - Values greater than 1 will be used in the marketing strategies\n",
    "\n",
    "association_rules = generate_association_rules(freq_item_sets_all_orders, 0.099)"
   ]
  },
  {
   "cell_type": "code",
   "execution_count": 27,
   "metadata": {
    "collapsed": false
   },
   "outputs": [
    {
     "name": "stdout",
     "output_type": "stream",
     "text": [
      "+--------------------------+----------------------------------+-------------------+\n",
      "|Antecedent                |Consequent                        |Confidence         |\n",
      "+--------------------------+----------------------------------+-------------------+\n",
      "|[spaghetti]               |[frozen smoothie]                 |0.24631578947368424|\n",
      "|[eggs]                    |[herb & pepper]                   |0.25336927223719674|\n",
      "|[mineral water]           |[red wine]                        |0.38862559241706157|\n",
      "|[chocolate]               |[tomatoes]                        |0.2046783625730994 |\n",
      "|[mineral water]           |[eggs]                            |0.28338278931750743|\n",
      "|[eggs]                    |[mineral water]                   |0.21364653243847875|\n",
      "|[chocolate]               |[soup]                            |0.20052770448548812|\n",
      "|[mineral water]           |[soup]                            |0.45646437994722955|\n",
      "|[spaghetti]               |[green tea]                       |0.2008072653884965 |\n",
      "|[green tea]               |[spaghetti]                       |0.15237366003062788|\n",
      "|[mineral water]           |[cereals]                         |0.3989637305699482 |\n",
      "|[chocolate]               |[frozen smoothie]                 |0.23578947368421052|\n",
      "|[cake]                    |[mineral water]                   |0.11521252796420582|\n",
      "|[mineral water]           |[cake]                            |0.33881578947368424|\n",
      "|[spaghetti]               |[tomatoes]                        |0.3060428849902534 |\n",
      "|[tomatoes]                |[spaghetti]                       |0.12021439509954057|\n",
      "|[chocolate]               |[cookies]                         |0.12935323383084577|\n",
      "|[eggs]                    |[frozen smoothie]                 |0.17473684210526316|\n",
      "|[chocolate]               |[low fat yogurt]                  |0.19337979094076657|\n",
      "|[green tea]               |[frozen vegetables]               |0.15104895104895105|\n",
      "|[frozen vegetables]       |[green tea]                       |0.10898082744702321|\n",
      "|[tomatoes]                |[frozen vegetables]               |0.1692307692307692 |\n",
      "|[frozen vegetables]       |[tomatoes]                        |0.23586744639376217|\n",
      "|[chocolate]               |[chicken]                         |0.24444444444444446|\n",
      "|[green tea]               |[eggs]                            |0.14169139465875372|\n",
      "|[eggs]                    |[green tea]                       |0.1927346115035318 |\n",
      "|[milk]                    |[shrimp]                          |0.2462686567164179 |\n",
      "|[shrimp]                  |[milk]                            |0.1358024691358025 |\n",
      "|[green tea]               |[tomatoes]                        |0.1793372319688109 |\n",
      "|[mineral water]           |[whole wheat rice]                |0.3439635535307517 |\n",
      "|[mineral water]           |[frozen smoothie]                 |0.32               |\n",
      "|[ground beef]             |[shrimp]                          |0.16044776119402984|\n",
      "|[shrimp]                  |[ground beef]                     |0.11668928086838534|\n",
      "|[spaghetti]               |[cake]                            |0.2236842105263158 |\n",
      "|[cake]                    |[spaghetti]                       |0.10413476263399693|\n",
      "|[eggs]                    |[olive oil]                       |0.18218623481781376|\n",
      "|[cake]                    |[frozen vegetables]               |0.1076923076923077 |\n",
      "|[frozen vegetables]       |[cake]                            |0.12664473684210528|\n",
      "|[mineral water]           |[turkey]                          |0.3070362473347548 |\n",
      "|[spaghetti]               |[mineral water]                   |0.2505592841163311 |\n",
      "|[mineral water]           |[spaghetti]                       |0.3430321592649311 |\n",
      "|[milk]                    |[french fries]                    |0.1388455538221529 |\n",
      "|[french fries]            |[milk]                            |0.18312757201646093|\n",
      "|[pancakes]                |[shrimp]                          |0.14738805970149252|\n",
      "|[shrimp]                  |[pancakes]                        |0.11079943899018233|\n",
      "|[green tea]               |[frozen smoothie]                 |0.1768421052631579 |\n",
      "|[eggs]                    |[escalope]                        |0.13949579831932774|\n",
      "|[eggs]                    |[shrimp]                          |0.19776119402985073|\n",
      "|[milk]                    |[olive oil]                       |0.2591093117408907 |\n",
      "|[olive oil]               |[milk]                            |0.13168724279835392|\n",
      "|[olive oil]               |[chocolate]                       |0.1000813669650122 |\n",
      "|[chocolate]               |[olive oil]                       |0.24898785425101214|\n",
      "|[spaghetti]               |[french fries]                    |0.16146645865834636|\n",
      "|[french fries]            |[spaghetti]                       |0.15849923430321594|\n",
      "|[ground beef]             |[frozen vegetables]               |0.17762237762237765|\n",
      "|[frozen vegetables]       |[ground beef]                     |0.17232021709633652|\n",
      "|[spaghetti]               |[frozen vegetables]               |0.29230769230769227|\n",
      "|[frozen vegetables]       |[spaghetti]                       |0.16003062787136293|\n",
      "|[burgers]                 |[mineral water]                   |0.10234899328859061|\n",
      "|[mineral water]           |[burgers]                         |0.2798165137614679 |\n",
      "|[chocolate]               |[cake]                            |0.16776315789473684|\n",
      "|[spaghetti]               |[eggs]                            |0.2032640949554896 |\n",
      "|[eggs]                    |[spaghetti]                       |0.20980091883614088|\n",
      "|[mineral water]           |[cooking oil]                     |0.3942558746736292 |\n",
      "|[green tea]               |[ground beef]                     |0.15061058344640435|\n",
      "|[ground beef]             |[green tea]                       |0.11200807265388497|\n",
      "|[eggs]                    |[chocolate]                       |0.20260374288039054|\n",
      "|[chocolate]               |[eggs]                            |0.1847181008902077 |\n",
      "|[eggs]                    |[cooking oil]                     |0.2297650130548303 |\n",
      "|[mineral water]           |[chocolate]                       |0.3213995117982099 |\n",
      "|[chocolate]               |[mineral water]                   |0.220917225950783  |\n",
      "|[olive oil]               |[frozen vegetables]               |0.11888111888111888|\n",
      "|[frozen vegetables]       |[olive oil]                       |0.17206477732793524|\n",
      "|[ground beef]             |[eggs]                            |0.11127596439169138|\n",
      "|[eggs]                    |[ground beef]                     |0.20352781546811397|\n",
      "|[mineral water]           |[chicken]                         |0.38000000000000006|\n",
      "|[low fat yogurt]          |[mineral water]                   |0.10067114093959731|\n",
      "|[mineral water]           |[low fat yogurt]                  |0.313588850174216  |\n",
      "|[spaghetti]               |[pancakes]                        |0.2650771388499299 |\n",
      "|[pancakes]                |[spaghetti]                       |0.1447166921898928 |\n",
      "|[frozen vegetables]       |[french fries]                    |0.11154446177847115|\n",
      "|[french fries]            |[frozen vegetables]               |0.19999999999999998|\n",
      "|[mineral water]           |[honey]                           |0.31741573033707865|\n",
      "|[green tea]               |[shrimp]                          |0.16044776119402984|\n",
      "|[chocolate]               |[champagne]                       |0.24786324786324784|\n",
      "|[spaghetti]               |[red wine]                        |0.36492890995260663|\n",
      "|[frozen vegetables]       |[chocolate]                       |0.13995117982099267|\n",
      "|[chocolate]               |[frozen vegetables]               |0.24055944055944053|\n",
      "|[green tea]               |[milk]                            |0.1358024691358025 |\n",
      "|[milk]                    |[green tea]                       |0.13319878910191726|\n",
      "|[pancakes]                |[french fries]                    |0.11778471138845555|\n",
      "|[french fries]            |[pancakes]                        |0.211781206171108  |\n",
      "|[green tea]               |[turkey]                          |0.18976545842217488|\n",
      "|[burgers]                 |[eggs]                            |0.1602373887240356 |\n",
      "|[eggs]                    |[burgers]                         |0.33027522935779813|\n",
      "|[spaghetti]               |[honey]                           |0.25               |\n",
      "|[milk]                    |[turkey]                          |0.18123667377398722|\n",
      "|[pancakes]                |[frozen vegetables]               |0.14125874125874124|\n",
      "|[frozen vegetables]       |[pancakes]                        |0.14165497896213183|\n",
      "|[shrimp]                  |[tomatoes]                        |0.16374269005847952|\n",
      "|[tomatoes]                |[shrimp]                          |0.15671641791044774|\n",
      "|[green tea]               |[chocolate]                       |0.14320585842148087|\n",
      "|[chocolate]               |[green tea]                       |0.17759838546922302|\n",
      "|[milk]                    |[chocolate]                       |0.19609438567941412|\n",
      "|[chocolate]               |[milk]                            |0.2479423868312757 |\n",
      "|[ground beef]             |[grated cheese]                   |0.2162849872773537 |\n",
      "|[grated cheese]           |[ground beef]                     |0.1153324287652646 |\n",
      "|[chocolate]               |[salmon]                          |0.2507836990595611 |\n",
      "|[spaghetti]               |[escalope]                        |0.17647058823529413|\n",
      "|[low fat yogurt]          |[frozen vegetables]               |0.1062937062937063 |\n",
      "|[frozen vegetables]       |[low fat yogurt]                  |0.13240418118466898|\n",
      "|[green tea]               |[mineral water]                   |0.1303131991051454 |\n",
      "|[mineral water]           |[green tea]                       |0.23511604439959638|\n",
      "|[french fries]            |[escalope]                        |0.20672268907563024|\n",
      "|[milk]                    |[frozen vegetables]               |0.24755244755244757|\n",
      "|[frozen vegetables]       |[milk]                            |0.1820987654320988 |\n",
      "|[cake]                    |[pancakes]                        |0.12482468443197757|\n",
      "|[pancakes]                |[cake]                            |0.14638157894736845|\n",
      "|[low fat yogurt]          |[milk]                            |0.10185185185185186|\n",
      "|[milk]                    |[low fat yogurt]                  |0.17247386759581884|\n",
      "|[eggs]                    |[low fat yogurt]                  |0.21951219512195125|\n",
      "|[burgers]                 |[turkey]                          |0.1705756929637527 |\n",
      "|[turkey]                  |[burgers]                         |0.12232415902140673|\n",
      "|[mineral water]           |[escalope]                        |0.21512605042016805|\n",
      "|[spaghetti]               |[herb & pepper]                   |0.32884097035040427|\n",
      "|[mineral water]           |[shrimp]                          |0.3302238805970149 |\n",
      "|[shrimp]                  |[chocolate]                       |0.1098454027664768 |\n",
      "|[chocolate]               |[shrimp]                          |0.251865671641791  |\n",
      "|[french fries]            |[frozen smoothie]                 |0.22947368421052633|\n",
      "|[cake]                    |[milk]                            |0.10288065843621401|\n",
      "|[milk]                    |[cake]                            |0.16447368421052633|\n",
      "|[pancakes]                |[mineral water]                   |0.14149888143176736|\n",
      "|[mineral water]           |[pancakes]                        |0.3548387096774194 |\n",
      "|[french fries]            |[turkey]                          |0.1705756929637527 |\n",
      "|[ground beef]             |[tomatoes]                        |0.17153996101364521|\n",
      "|[tomatoes]                |[ground beef]                     |0.11940298507462688|\n",
      "|[spaghetti]               |[olive oil]                       |0.3481781376518219 |\n",
      "|[olive oil]               |[spaghetti]                       |0.13169984686064318|\n",
      "|[milk]                    |[tomatoes]                        |0.2046783625730994 |\n",
      "|[tomatoes]                |[milk]                            |0.1080246913580247 |\n",
      "|[pancakes]                |[chocolate]                       |0.12123677786818551|\n",
      "|[chocolate]               |[pancakes]                        |0.20897615708274897|\n",
      "|[mineral water]           |[avocado]                         |0.348              |\n",
      "|[french fries]            |[low fat yogurt]                  |0.17421602787456447|\n",
      "|[french fries]            |[cookies]                         |0.16583747927031509|\n",
      "|[french fries]            |[grated cheese]                   |0.19847328244274812|\n",
      "|[chocolate]               |[whole wheat rice]                |0.20501138952164008|\n",
      "|[milk]                    |[frozen smoothie]                 |0.22526315789473686|\n",
      "|[frozen smoothie]         |[milk]                            |0.11008230452674898|\n",
      "|[escalope]                |[chocolate]                       |0.10740439381611065|\n",
      "|[chocolate]               |[escalope]                        |0.22184873949579834|\n",
      "|[green tea]               |[cake]                            |0.1743421052631579 |\n",
      "|[cake]                    |[green tea]                       |0.10696266397578205|\n",
      "|[spaghetti]               |[cooking oil]                     |0.31070496083550914|\n",
      "|[burgers]                 |[chocolate]                       |0.10414971521562244|\n",
      "|[chocolate]               |[burgers]                         |0.19571865443425074|\n",
      "|[milk]                    |[mineral water]                   |0.20134228187919462|\n",
      "|[mineral water]           |[milk]                            |0.3703703703703704 |\n",
      "|[eggs]                    |[french fries]                    |0.21294851794071765|\n",
      "|[french fries]            |[eggs]                            |0.20252225519287834|\n",
      "|[chocolate]               |[grated cheese]                   |0.20865139949109412|\n",
      "|[ground beef]             |[herb & pepper]                   |0.3234501347708895 |\n",
      "|[herb & pepper]           |[ground beef]                     |0.1628222523744912 |\n",
      "|[mineral water]           |[frozen vegetables]               |0.37482517482517486|\n",
      "|[frozen vegetables]       |[mineral water]                   |0.1498881431767338 |\n",
      "|[chicken]                 |[milk]                            |0.11419753086419754|\n",
      "|[milk]                    |[chicken]                         |0.24666666666666667|\n",
      "|[tomatoes]                |[mineral water]                   |0.10234899328859061|\n",
      "|[mineral water]           |[tomatoes]                        |0.3567251461988304 |\n",
      "|[ground beef]             |[mineral water]                   |0.17170022371364654|\n",
      "|[mineral water]           |[ground beef]                     |0.41655359565807326|\n",
      "|[eggs]                    |[tomatoes]                        |0.1793372319688109 |\n",
      "|[spaghetti]               |[whole wheat rice]                |0.24145785876993167|\n",
      "|[shrimp]                  |[frozen vegetables]               |0.17482517482517482|\n",
      "|[frozen vegetables]       |[shrimp]                          |0.23320895522388058|\n",
      "|[spaghetti]               |[low fat yogurt]                  |0.1986062717770035 |\n",
      "|[burgers]                 |[ground beef]                     |0.12211668928086838|\n",
      "|[ground beef]             |[burgers]                         |0.13761467889908255|\n",
      "|[frozen vegetables]       |[eggs]                            |0.12091988130563798|\n",
      "|[eggs]                    |[frozen vegetables]               |0.22797202797202798|\n",
      "|[olive oil]               |[mineral water]                   |0.11577181208053693|\n",
      "|[mineral water]           |[olive oil]                       |0.4190283400809717 |\n",
      "|[ground beef]             |[milk]                            |0.1697530864197531 |\n",
      "|[milk]                    |[ground beef]                     |0.22388059701492538|\n",
      "|[mineral water]           |[herb & pepper]                   |0.34501347708894875|\n",
      "|[milk]                    |[cooking oil]                     |0.22454308093994776|\n",
      "|[spaghetti]               |[shrimp]                          |0.2966417910447761 |\n",
      "|[shrimp]                  |[spaghetti]                       |0.1217457886676876 |\n",
      "|[green tea]               |[pancakes]                        |0.17251051893408134|\n",
      "|[pancakes]                |[green tea]                       |0.124117053481332  |\n",
      "|[burgers]                 |[spaghetti]                       |0.12327718223583461|\n",
      "|[spaghetti]               |[burgers]                         |0.24617737003058102|\n",
      "|[spaghetti]               |[chocolate]                       |0.23921887713588283|\n",
      "|[chocolate]               |[spaghetti]                       |0.22511485451761104|\n",
      "|[cake]                    |[french fries]                    |0.1045241809672387 |\n",
      "|[french fries]            |[cake]                            |0.22039473684210528|\n",
      "|[eggs]                    |[chicken]                         |0.24               |\n",
      "|[soup]                    |[milk]                            |0.11728395061728396|\n",
      "|[milk]                    |[soup]                            |0.3007915567282322 |\n",
      "|[spaghetti]               |[ground beef]                     |0.3989145183175034 |\n",
      "|[ground beef]             |[spaghetti]                       |0.22511485451761104|\n",
      "|[green tea]               |[cookies]                         |0.14925373134328357|\n",
      "|[pancakes]                |[olive oil]                       |0.1639676113360324 |\n",
      "|[olive oil]               |[pancakes]                        |0.11360448807854139|\n",
      "|[eggs]                    |[turkey]                          |0.31130063965884863|\n",
      "|[turkey]                  |[eggs]                            |0.10830860534124628|\n",
      "|[mineral water]           |[french fries]                    |0.19734789391575666|\n",
      "|[french fries]            |[mineral water]                   |0.14149888143176736|\n",
      "|[burgers]                 |[frozen vegetables]               |0.11048951048951049|\n",
      "|[frozen vegetables]       |[burgers]                         |0.12079510703363913|\n",
      "|[spaghetti]               |[grated cheese]                   |0.3155216284987277 |\n",
      "|[chocolate]               |[french fries]                    |0.20124804992199688|\n",
      "|[french fries]            |[chocolate]                       |0.209926769731489  |\n",
      "|[french fries]            |[tomatoes]                        |0.17543859649122806|\n",
      "|[mineral water]           |[salmon]                          |0.4012539184952978 |\n",
      "|[mineral water]           |[fresh bread]                     |0.30959752321981426|\n",
      "|[ground beef]             |[pancakes]                        |0.15287517531556802|\n",
      "|[pancakes]                |[ground beef]                     |0.14789687924016282|\n",
      "|[french fries]            |[ground beef]                     |0.14111261872455902|\n",
      "|[burgers]                 |[green tea]                       |0.13218970736629668|\n",
      "|[green tea]               |[burgers]                         |0.2003058103975535 |\n",
      "|[chocolate]               |[turkey]                          |0.18123667377398722|\n",
      "|[green tea]               |[french fries]                    |0.1669266770670827 |\n",
      "|[french fries]            |[green tea]                       |0.21594349142280528|\n",
      "|[spaghetti]               |[chicken]                         |0.2866666666666667 |\n",
      "|[cake]                    |[eggs]                            |0.10608308605341245|\n",
      "|[eggs]                    |[cake]                            |0.23519736842105263|\n",
      "|[eggs]                    |[whole wheat rice]                |0.18678815489749429|\n",
      "|[ground beef]             |[olive oil]                       |0.2145748987854251 |\n",
      "|[olive oil]               |[ground beef]                     |0.14382632293080055|\n",
      "|[eggs]                    |[cookies]                         |0.1310116086235489 |\n",
      "|[burgers]                 |[french fries]                    |0.12870514820592824|\n",
      "|[french fries]            |[burgers]                         |0.25229357798165136|\n",
      "|[chocolate]               |[cooking oil]                     |0.26631853785900783|\n",
      "|[pancakes]                |[milk]                            |0.12757201646090535|\n",
      "|[milk]                    |[pancakes]                        |0.17391304347826086|\n",
      "|[burgers]                 |[pancakes]                        |0.11079943899018233|\n",
      "|[pancakes]                |[burgers]                         |0.12079510703363913|\n",
      "|[spaghetti]               |[soup]                            |0.2823218997361478 |\n",
      "|[burgers]                 |[milk]                            |0.13786008230452676|\n",
      "|[milk]                    |[burgers]                         |0.20489296636085627|\n",
      "|[spaghetti]               |[milk]                            |0.27366255144032925|\n",
      "|[milk]                    |[spaghetti]                       |0.20367534456355285|\n",
      "|[spaghetti]               |[turkey]                          |0.26439232409381663|\n",
      "|[milk]                    |[whole wheat rice]                |0.2027334851936219 |\n",
      "|[burgers]                 |[cake]                            |0.14144736842105263|\n",
      "|[cake]                    |[burgers]                         |0.1314984709480122 |\n",
      "|[spaghetti]               |[salmon]                          |0.3166144200626959 |\n",
      "|[french fries]            |[whole wheat rice]                |0.17995444191343962|\n",
      "|[french fries]            |[chicken]                         |0.18444444444444444|\n",
      "|[green tea]               |[chicken]                         |0.1977777777777778 |\n",
      "|[milk]                    |[eggs]                            |0.17136498516320472|\n",
      "|[eggs]                    |[milk]                            |0.23765432098765432|\n",
      "|[pancakes]                |[eggs]                            |0.12091988130563798|\n",
      "|[eggs]                    |[pancakes]                        |0.2286115007012623 |\n",
      "|[mineral water]           |[grated cheese]                   |0.3333333333333333 |\n",
      "|[ground beef]             |[chocolate]                       |0.1407648494711147 |\n",
      "|[chocolate]               |[ground beef]                     |0.23473541383989144|\n",
      "|[mineral water]           |[eggs, chocolate]                 |0.40562248995983935|\n",
      "|[eggs]                    |[mineral water, chocolate]        |0.25569620253164554|\n",
      "|[chocolate]               |[eggs, mineral water]             |0.2643979057591623 |\n",
      "|[milk]                    |[mineral water, chocolate]        |0.26582278481012656|\n",
      "|[mineral water]           |[milk, chocolate]                 |0.43568464730290457|\n",
      "|[chocolate]               |[milk, mineral water]             |0.2916666666666667 |\n",
      "|[mineral water, chocolate]|[milk]                            |0.1080246913580247 |\n",
      "|[spaghetti]               |[eggs, chocolate]                 |0.3172690763052209 |\n",
      "|[eggs]                    |[spaghetti, chocolate]            |0.26870748299319724|\n",
      "|[chocolate]               |[spaghetti, eggs]                 |0.28832116788321166|\n",
      "|[ground beef]             |[milk, mineral water]             |0.23055555555555557|\n",
      "|[milk]                    |[ground beef, mineral water]      |0.2703583061889251 |\n",
      "|[mineral water]           |[ground beef, milk]               |0.503030303030303  |\n",
      "|[milk, mineral water]     |[ground beef]                     |0.11261872455902307|\n",
      "|[spaghetti]               |[pancakes, mineral water]         |0.33992094861660077|\n",
      "|[pancakes]                |[spaghetti, mineral water]        |0.1919642857142857 |\n",
      "|[mineral water]           |[spaghetti, pancakes]             |0.455026455026455  |\n",
      "|[spaghetti, mineral water]|[pancakes]                        |0.12061711079943899|\n",
      "|[spaghetti]               |[mineral water, chocolate]        |0.3012658227848101 |\n",
      "|[mineral water]           |[spaghetti, chocolate]            |0.40476190476190477|\n",
      "|[chocolate]               |[spaghetti, mineral water]        |0.265625           |\n",
      "|[spaghetti]               |[olive oil, mineral water]        |0.3719806763285024 |\n",
      "|[olive oil]               |[spaghetti, mineral water]        |0.171875           |\n",
      "|[mineral water]           |[spaghetti, olive oil]            |0.4476744186046512 |\n",
      "|[spaghetti, mineral water]|[olive oil]                       |0.15587044534412955|\n",
      "|[spaghetti]               |[frozen vegetables, mineral water]|0.33582089552238803|\n",
      "|[mineral water]           |[spaghetti, frozen vegetables]    |0.43062200956937796|\n",
      "|[spaghetti, mineral water]|[frozen vegetables]               |0.12587412587412586|\n",
      "|[frozen vegetables]       |[spaghetti, mineral water]        |0.20089285714285715|\n",
      "|[spaghetti]               |[milk, chocolate]                 |0.34024896265560167|\n",
      "|[milk]                    |[spaghetti, chocolate]            |0.2789115646258503 |\n",
      "|[chocolate]               |[spaghetti, milk]                 |0.3082706766917293 |\n",
      "|[spaghetti]               |[mineral water, french fries]     |0.30039525691699603|\n",
      "|[mineral water]           |[spaghetti, french fries]         |0.36714975845410625|\n",
      "|[french fries]            |[spaghetti, mineral water]        |0.16964285714285715|\n",
      "|[ground beef]             |[mineral water, chocolate]        |0.20759493670886073|\n",
      "|[mineral water]           |[ground beef, chocolate]          |0.47398843930635837|\n",
      "|[chocolate]               |[ground beef, mineral water]      |0.267100977198697  |\n",
      "|[mineral water, chocolate]|[ground beef]                     |0.1112618724559023 |\n",
      "|[mineral water]           |[milk, eggs]                      |0.42424242424242425|\n",
      "|[milk]                    |[eggs, mineral water]             |0.25654450261780104|\n",
      "|[eggs]                    |[milk, mineral water]             |0.27222222222222225|\n",
      "+--------------------------+----------------------------------+-------------------+\n",
      "only showing top 300 rows\n",
      "\n"
     ]
    }
   ],
   "source": [
    "# Printing all the association rules\n",
    "\n",
    "association_rules.show(300, truncate=False)"
   ]
  },
  {
   "cell_type": "code",
   "execution_count": 28,
   "metadata": {
    "collapsed": true
   },
   "outputs": [],
   "source": [
    "# Export all the assciation rules in a csv file and copy them to the Excel file provided\n",
    "association_rules.rdd.map(lambda x: \",\".join(map(str, x))).coalesce(1).saveAsTextFile(\"apriori_association_result.csv\")"
   ]
  },
  {
   "cell_type": "markdown",
   "metadata": {},
   "source": [
    "Now you have got the association rules based on the transaction dataset. The next part of the assignment will involve using these rules to calculate the expected revenue from the two strategies"
   ]
  }
 ],
 "metadata": {
  "kernelspec": {
   "display_name": "Python [default]",
   "language": "python",
   "name": "python3"
  },
  "language_info": {
   "codemirror_mode": {
    "name": "ipython",
    "version": 3
   },
   "file_extension": ".py",
   "mimetype": "text/x-python",
   "name": "python",
   "nbconvert_exporter": "python",
   "pygments_lexer": "ipython3",
   "version": "3.5.2"
  }
 },
 "nbformat": 4,
 "nbformat_minor": 2
}
